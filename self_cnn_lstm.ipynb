{
  "cells": [
    {
      "cell_type": "markdown",
      "metadata": {
        "_cell_guid": "b1076dfc-b9ad-4769-8c92-a6c4dae69d19",
        "_uuid": "8f2839f25d086af736a60e9eeb907d3b93b6e0e5",
        "id": "k0L4YtH9q-z8"
      },
      "source": [
        "# Image Caption Generator with CNN & LSTM\n",
        "\n",
        "You saw an image and your brain can easily tell what the image is about, but can a computer tell what the image is representing? Computer vision researchers worked on this a lot and they considered it impossible until now! With the advancement in Deep learning techniques, availability of huge datasets and computer power, we can build models that can generate captions for an image.\n",
        "\n",
        "This is what we are going to implement in this Python based project where we will use deep learning techniques of Convolutional Neural Networks and a type of Recurrent Neural Network (LSTM) together.\n",
        "\n",
        "## What is Image Caption Generator?\n",
        "\n",
        "Image caption generator is a task that involves computer vision and natural language processing concepts to recognize the context of an image and describe them in a natural language like English."
      ]
    },
    {
      "cell_type": "markdown",
      "metadata": {
        "id": "pDs2YY_yq-0L"
      },
      "source": [
        "# The Dataset of Python based Project\n",
        "\n",
        "For the image caption generator, we will be using the Flickr_8K dataset. There are also other big datasets like Flickr_30K and MSCOCO dataset but it can take weeks just to train the network so we will be using a small Flickr8k dataset. The advantage of a huge dataset is that we can build better models.\n",
        "\n",
        "we get dataset from **Kaggle** you can download it from here also : <a href=\"https://www.kaggle.com/datasets/adityajn105/flickr8k\">Kaggle-Flicker8k</a> (Size: 1GB).\n"
      ]
    },
    {
      "cell_type": "code",
      "execution_count": null,
      "metadata": {
        "execution": {
          "iopub.execute_input": "2023-04-30T19:27:42.014673Z",
          "iopub.status.busy": "2023-04-30T19:27:42.014313Z",
          "iopub.status.idle": "2023-04-30T19:27:47.379610Z",
          "shell.execute_reply": "2023-04-30T19:27:47.378902Z",
          "shell.execute_reply.started": "2023-04-30T19:27:42.014585Z"
        },
        "id": "CAyGXlHgq-0N",
        "trusted": true
      },
      "outputs": [],
      "source": [
        "import os   # handling the files\n",
        "import pickle # storing numpy features\n",
        "import numpy as np\n",
        "from tqdm.notebook import tqdm # how much data is process till now\n",
        "\n",
        "from tensorflow.keras.applications.vgg16 import VGG16 , preprocess_input # extract features from image data.\n",
        "from tensorflow.keras.applications.resnet import ResNet101, preprocess_input\n",
        "from tensorflow.keras.preprocessing.image import load_img , img_to_array\n",
        "from tensorflow.keras.preprocessing.text import Tokenizer\n",
        "from tensorflow.keras.preprocessing.sequence import pad_sequences\n",
        "from tensorflow.keras.models import Model\n",
        "from tensorflow.keras.utils import to_categorical, plot_model\n",
        "from tensorflow.keras.layers import Input , Dense , LSTM , Embedding , Dropout , add"
      ]
    },
    {
      "cell_type": "code",
      "execution_count": null,
      "metadata": {
        "colab": {
          "base_uri": "https://localhost:8080/"
        },
        "id": "4pPEmjbEsVf7",
        "outputId": "aea38811-cee2-4469-d27f-3f340a5c6d9c"
      },
      "outputs": [
        {
          "name": "stdout",
          "output_type": "stream",
          "text": [
            "Drive already mounted at /content/drive; to attempt to forcibly remount, call drive.mount(\"/content/drive\", force_remount=True).\n"
          ]
        }
      ],
      "source": [
        "from google.colab import drive\n",
        "drive.mount('/content/drive')"
      ]
    },
    {
      "cell_type": "markdown",
      "metadata": {
        "id": "TZXMUF_0q-0U"
      },
      "source": [
        "#### Now we must set the directories to use the data"
      ]
    },
    {
      "cell_type": "code",
      "execution_count": null,
      "metadata": {
        "execution": {
          "iopub.execute_input": "2023-04-30T19:36:23.769105Z",
          "iopub.status.busy": "2023-04-30T19:36:23.768834Z",
          "iopub.status.idle": "2023-04-30T19:36:23.773187Z",
          "shell.execute_reply": "2023-04-30T19:36:23.772389Z",
          "shell.execute_reply.started": "2023-04-30T19:36:23.769078Z"
        },
        "id": "DidXXmRDq-0W",
        "trusted": true
      },
      "outputs": [],
      "source": [
        "WORKING_DIR = \"/content/drive/MyDrive/ML/\"\n",
        "BASE_DIR = \"/content/drive/MyDrive/ML/\""
      ]
    },
    {
      "cell_type": "markdown",
      "metadata": {
        "id": "BXHA34S_q-0X"
      },
      "source": [
        "# Extract Image Features\n",
        "\n",
        "We have to load and restructure the model\n"
      ]
    },
    {
      "cell_type": "code",
      "execution_count": null,
      "metadata": {
        "collapsed": true,
        "execution": {
          "iopub.execute_input": "2023-04-30T19:34:22.018185Z",
          "iopub.status.busy": "2023-04-30T19:34:22.017608Z",
          "iopub.status.idle": "2023-04-30T19:34:28.101956Z",
          "shell.execute_reply": "2023-04-30T19:34:28.100821Z",
          "shell.execute_reply.started": "2023-04-30T19:34:22.018145Z"
        },
        "id": "WqYSSpYpq-0a",
        "jupyter": {
          "outputs_hidden": true
        },
        "trusted": true
      },
      "outputs": [],
      "source": [
        "# Load ResNet101 Model\n",
        "model = ResNet101(include_top=False, weights='imagenet', pooling='avg')\n",
        "\n",
        "# restructure model\n",
        "model = Model(inputs = model.inputs , outputs = model.output)"
      ]
    },
    {
      "cell_type": "markdown",
      "metadata": {
        "id": "U33ZXgChq-0b"
      },
      "source": [
        "# extract the image features\n",
        "Now we extract the image features and load the data for preprocess"
      ]
    },
    {
      "cell_type": "code",
      "execution_count": null,
      "metadata": {
        "colab": {
          "base_uri": "https://localhost:8080/",
          "height": 49,
          "referenced_widgets": [
            "0d28ddb0004a4a638deac24300cf0de7",
            "2d98ceaa25cc49a69300096b572f1c2c",
            "bbd1cb0b30e14c2997856402a0705c72",
            "22d22647649f41a1a9f96ea9a4ad1beb",
            "cb2a3e4dc18b44dd99f5c6ee543a5bd7",
            "ed50e893ad164446a3a34b158fd2e1fd",
            "ef5b702a2d7243a486df5f0eba1b02d2",
            "5e3558218cd74058895dc7994a0bd424",
            "8c0d7d84684040c5b85f6992dd6126e9",
            "4cf89a6ac1cb4ee4bcdb9a901182ed0f",
            "a19f7882201e40228c2d1de8654b37b9"
          ]
        },
        "execution": {
          "iopub.execute_input": "2023-04-30T19:36:31.006413Z",
          "iopub.status.busy": "2023-04-30T19:36:31.006136Z",
          "iopub.status.idle": "2023-04-30T19:45:02.422071Z",
          "shell.execute_reply": "2023-04-30T19:45:02.421380Z",
          "shell.execute_reply.started": "2023-04-30T19:36:31.006383Z"
        },
        "id": "1PXAXvbrq-0b",
        "outputId": "11154cfd-07f1-4612-8d2e-5854ec516193",
        "trusted": true
      },
      "outputs": [
        {
          "data": {
            "application/vnd.jupyter.widget-view+json": {
              "model_id": "0d28ddb0004a4a638deac24300cf0de7",
              "version_major": 2,
              "version_minor": 0
            },
            "text/plain": [
              "  0%|          | 0/1 [00:00<?, ?it/s]"
            ]
          },
          "metadata": {},
          "output_type": "display_data"
        }
      ],
      "source": [
        "# extract features from image\n",
        "features = {}\n",
        "directory = os.path.join(BASE_DIR, 'Images')\n",
        "\n",
        "for img_name in tqdm(os.listdir(directory)):\n",
        "    # load the image from file\n",
        "    img_path = directory + '/' + img_name\n",
        "    image = load_img(img_path, target_size=(224, 224))\n",
        "    # convert image pixels to numpy array\n",
        "    image = img_to_array(image)\n",
        "    # reshape data for model\n",
        "    image = image.reshape((1, image.shape[0], image.shape[1], image.shape[2]))\n",
        "    # preprocess image for vgg\n",
        "    image = preprocess_input(image)\n",
        "    # extract features\n",
        "    feature = model.predict(image, verbose=0)\n",
        "    # get image ID\n",
        "    image_id = img_name.split('.')[0]\n",
        "    # store feature\n",
        "    features[image_id] = feature"
      ]
    },
    {
      "cell_type": "markdown",
      "metadata": {
        "id": "SBOscAPLq-0d"
      },
      "source": []
    },
    {
      "cell_type": "code",
      "execution_count": null,
      "metadata": {
        "colab": {
          "base_uri": "https://localhost:8080/"
        },
        "execution": {
          "iopub.execute_input": "2023-04-30T19:45:07.350836Z",
          "iopub.status.busy": "2023-04-30T19:45:07.350356Z",
          "iopub.status.idle": "2023-04-30T19:45:07.387159Z",
          "shell.execute_reply": "2023-04-30T19:45:07.386295Z",
          "shell.execute_reply.started": "2023-04-30T19:45:07.350798Z"
        },
        "id": "7XVsD3PPq-0d",
        "outputId": "f1f15c95-4c75-4e59-cae4-2d9c35555979",
        "trusted": true
      },
      "outputs": [
        {
          "data": {
            "text/plain": [
              "(1, 1, 2048)"
            ]
          },
          "execution_count": 13,
          "metadata": {},
          "output_type": "execute_result"
        }
      ],
      "source": [
        "np.array(list(features.values())).shape"
      ]
    },
    {
      "cell_type": "markdown",
      "metadata": {
        "id": "02vbT_H_q-0f"
      },
      "source": [
        "features dictionary each vector of length 4096,<br>\n",
        "* **Key:** movie_name without.jpg\n",
        "* **Value:** feature_vector"
      ]
    },
    {
      "cell_type": "code",
      "execution_count": null,
      "metadata": {
        "execution": {
          "iopub.execute_input": "2023-04-30T19:45:12.481583Z",
          "iopub.status.busy": "2023-04-30T19:45:12.481289Z",
          "iopub.status.idle": "2023-04-30T19:45:12.638315Z",
          "shell.execute_reply": "2023-04-30T19:45:12.637569Z",
          "shell.execute_reply.started": "2023-04-30T19:45:12.481551Z"
        },
        "id": "rOw7wacGq-0g",
        "trusted": true
      },
      "outputs": [],
      "source": [
        "# store features in pickle\n",
        "pickle.dump(features, open(os.path.join(WORKING_DIR, 'resnet101_features.pkl'), 'wb'))"
      ]
    },
    {
      "cell_type": "markdown",
      "metadata": {
        "id": "MeGmYBfoq-0g"
      },
      "source": [
        "Extracted features are not stored in the disk, so re-extraction of features can extend running time\n",
        "\n",
        "Dumps and store your dictionary in a pickle for reloading it to save time"
      ]
    },
    {
      "cell_type": "code",
      "execution_count": null,
      "metadata": {
        "execution": {
          "iopub.execute_input": "2023-04-30T19:45:16.045059Z",
          "iopub.status.busy": "2023-04-30T19:45:16.044780Z",
          "iopub.status.idle": "2023-04-30T19:45:16.128711Z",
          "shell.execute_reply": "2023-04-30T19:45:16.127695Z",
          "shell.execute_reply.started": "2023-04-30T19:45:16.045030Z"
        },
        "id": "5cn8vSDYq-0h",
        "trusted": true
      },
      "outputs": [],
      "source": [
        "# load features from pickle\n",
        "with open(os.path.join(WORKING_DIR, 'resnet101_features.pkl'), 'rb') as f:\n",
        "    features = pickle.load(f)"
      ]
    },
    {
      "cell_type": "code",
      "execution_count": null,
      "metadata": {
        "execution": {
          "iopub.execute_input": "2023-04-30T17:24:14.946321Z",
          "iopub.status.busy": "2023-04-30T17:24:14.946022Z",
          "iopub.status.idle": "2023-04-30T17:24:15.045300Z",
          "shell.execute_reply": "2023-04-30T17:24:15.044479Z",
          "shell.execute_reply.started": "2023-04-30T17:24:14.946231Z"
        },
        "id": "g3cwwzhIq-0h",
        "trusted": true
      },
      "outputs": [],
      "source": [
        "# # load features from INPUT pickle\n",
        "# with open(os.path.join(\"/kaggle/input/featurespkl\", 'features.pkl'), 'rb') as f:\n",
        "#     features = pickle.load(f)"
      ]
    },
    {
      "cell_type": "markdown",
      "metadata": {
        "id": "F_V_kL1Mq-0i"
      },
      "source": [
        "Load all your stored feature data to your project for quicker runtime"
      ]
    },
    {
      "cell_type": "code",
      "execution_count": null,
      "metadata": {
        "colab": {
          "base_uri": "https://localhost:8080/"
        },
        "id": "ktS4b1Fu4nYw",
        "outputId": "e2331fef-6165-4d6d-f7f0-0790a3078b8c"
      },
      "outputs": [
        {
          "data": {
            "text/plain": [
              "dict_keys(['3765374230_cb1bbee0cb'])"
            ]
          },
          "execution_count": 18,
          "metadata": {},
          "output_type": "execute_result"
        }
      ],
      "source": [
        "features.keys()"
      ]
    },
    {
      "cell_type": "markdown",
      "metadata": {
        "id": "kDsQANpxq-0j"
      },
      "source": [
        "## Load the Captions Data\n",
        "\n",
        "Let us store the captions data from the text file"
      ]
    },
    {
      "cell_type": "code",
      "execution_count": null,
      "metadata": {
        "execution": {
          "iopub.execute_input": "2023-04-30T19:45:22.997790Z",
          "iopub.status.busy": "2023-04-30T19:45:22.997404Z",
          "iopub.status.idle": "2023-04-30T19:45:23.039387Z",
          "shell.execute_reply": "2023-04-30T19:45:23.038704Z",
          "shell.execute_reply.started": "2023-04-30T19:45:22.997757Z"
        },
        "id": "_bkdYhUJq-0j",
        "trusted": true
      },
      "outputs": [],
      "source": [
        "with open(os.path.join(BASE_DIR, 'captions.txt'), 'r') as f:\n",
        "    next(f)\n",
        "    captions_doc = f.read()"
      ]
    },
    {
      "cell_type": "markdown",
      "metadata": {
        "id": "1dG8rRj9q-0k"
      },
      "source": [
        "### Now we split and append the captions data with the image"
      ]
    },
    {
      "cell_type": "code",
      "execution_count": null,
      "metadata": {
        "colab": {
          "base_uri": "https://localhost:8080/",
          "height": 49,
          "referenced_widgets": [
            "9f24b1c1dba541f1a2eb7aebe61fbbfb",
            "35291d024ac2454ab71c2e87c3063244",
            "18c67c3f2acb446db92f0e2a8d1e6715",
            "7bc289cd0efb4987919b5e16245925b2",
            "f89df10df7da46be8a546216542f21c3",
            "e7959ed171d34e539d40e3dabf8226bf",
            "380d9dce24f348519909c3966e51f691",
            "8a1f75df9e454974929923ace4eff01c",
            "9dfe8fd42d2048b9875d633d65bcbbfd",
            "dcd4b64e94d74985b7d638b9b607bc04",
            "54bc494b6e41477e9e6118573bf4f62b"
          ]
        },
        "execution": {
          "iopub.execute_input": "2023-04-30T19:45:23.040910Z",
          "iopub.status.busy": "2023-04-30T19:45:23.040587Z",
          "iopub.status.idle": "2023-04-30T19:45:23.165505Z",
          "shell.execute_reply": "2023-04-30T19:45:23.164848Z",
          "shell.execute_reply.started": "2023-04-30T19:45:23.040875Z"
        },
        "id": "jfm3RS3Aq-0k",
        "outputId": "c01aefc7-ce14-462a-c962-5416afa1d1b7",
        "trusted": true
      },
      "outputs": [
        {
          "data": {
            "application/vnd.jupyter.widget-view+json": {
              "model_id": "9f24b1c1dba541f1a2eb7aebe61fbbfb",
              "version_major": 2,
              "version_minor": 0
            },
            "text/plain": [
              "  0%|          | 0/40456 [00:00<?, ?it/s]"
            ]
          },
          "metadata": {},
          "output_type": "display_data"
        }
      ],
      "source": [
        "# create mapping of image to captions\n",
        "mapping = {}\n",
        "# process lines\n",
        "for line in tqdm(captions_doc.split('\\n')):\n",
        "    # split the line by comma(,)\n",
        "    tokens = line.split(',')\n",
        "    if len(line) < 2:\n",
        "        continue\n",
        "    image_id, caption = tokens[0], tokens[1:]\n",
        "    # remove extension from image ID\n",
        "    image_id = image_id.split('.')[0]\n",
        "    # convert caption list to string\n",
        "    caption = \" \".join(caption)\n",
        "    # create list if needed\n",
        "    if image_id == \"3765374230_cb1bbee0cb\" and image_id not in mapping:\n",
        "      mapping[image_id]=[]\n",
        "      mapping[image_id].append(caption)\n",
        "    elif image_id == \"3765374230_cb1bbee0cb\":\n",
        "      mapping[image_id].append(caption)"
      ]
    },
    {
      "cell_type": "markdown",
      "metadata": {
        "id": "VlJpuNkuq-0o"
      },
      "source": [
        "# Preprocess Text Data"
      ]
    },
    {
      "cell_type": "code",
      "execution_count": null,
      "metadata": {
        "execution": {
          "iopub.execute_input": "2023-04-30T19:45:23.180176Z",
          "iopub.status.busy": "2023-04-30T19:45:23.179722Z",
          "iopub.status.idle": "2023-04-30T19:45:23.187061Z",
          "shell.execute_reply": "2023-04-30T19:45:23.186358Z",
          "shell.execute_reply.started": "2023-04-30T19:45:23.180140Z"
        },
        "id": "IgYqY08nq-0p",
        "trusted": true
      },
      "outputs": [],
      "source": [
        "def clean(mapping):\n",
        "    for key, captions in mapping.items():\n",
        "        for i in range(len(captions)):\n",
        "            # take one caption at a time\n",
        "            caption = captions[i]\n",
        "            # preprocessing steps\n",
        "            # convert to lowercase\n",
        "            caption = caption.lower()\n",
        "            # delete digits, special chars, etc.,\n",
        "            caption = caption.replace('[^A-Za-z]', '')\n",
        "            # delete additional spaces\n",
        "            caption = caption.replace('\\s+', ' ')\n",
        "            # add start and end tags to the caption\n",
        "            caption = 'startseq ' + \" \".join([word for word in caption.split() if len(word)>1]) + ' endseq'\n",
        "            captions[i] = caption"
      ]
    },
    {
      "cell_type": "markdown",
      "metadata": {
        "id": "M0O9Uuf7q-0r"
      },
      "source": [
        "Defined to clean and convert the text for quicker process and better results"
      ]
    },
    {
      "cell_type": "markdown",
      "metadata": {
        "id": "yNB-9-gfq-0s"
      },
      "source": [
        "Let us visualize the text **before** and **after** cleaning"
      ]
    },
    {
      "cell_type": "code",
      "execution_count": null,
      "metadata": {
        "colab": {
          "base_uri": "https://localhost:8080/"
        },
        "execution": {
          "iopub.execute_input": "2023-04-30T19:45:23.189050Z",
          "iopub.status.busy": "2023-04-30T19:45:23.188567Z",
          "iopub.status.idle": "2023-04-30T19:45:23.201374Z",
          "shell.execute_reply": "2023-04-30T19:45:23.200812Z",
          "shell.execute_reply.started": "2023-04-30T19:45:23.189015Z"
        },
        "id": "FzK296h0q-0t",
        "outputId": "b207f6f8-85b6-4d2b-d4a0-3ce78794d22a",
        "trusted": true
      },
      "outputs": [
        {
          "data": {
            "text/plain": [
              "['\"A girl in a swimsuit stands in the spray of water   a bicycle in the background .\"',\n",
              " 'A little girl in a green bathing suit is getting splashed in a water fountain .',\n",
              " 'A little girl reacts to a spray of water .',\n",
              " 'A young girl in a green bathing suit getting splashed with water .',\n",
              " 'A young girl wearing a green bathing suit has water sprayed on her back .']"
            ]
          },
          "execution_count": 38,
          "metadata": {},
          "output_type": "execute_result"
        }
      ],
      "source": [
        "# before preprocess of text\n",
        "mapping['3765374230_cb1bbee0cb']"
      ]
    },
    {
      "cell_type": "code",
      "execution_count": null,
      "metadata": {
        "execution": {
          "iopub.execute_input": "2023-04-30T19:45:23.205626Z",
          "iopub.status.busy": "2023-04-30T19:45:23.203634Z",
          "iopub.status.idle": "2023-04-30T19:45:23.338602Z",
          "shell.execute_reply": "2023-04-30T19:45:23.337965Z",
          "shell.execute_reply.started": "2023-04-30T19:45:23.205597Z"
        },
        "id": "T2YYYljNq-0u",
        "trusted": true
      },
      "outputs": [],
      "source": [
        "# preprocess the text\n",
        "clean(mapping)"
      ]
    },
    {
      "cell_type": "code",
      "execution_count": null,
      "metadata": {
        "colab": {
          "base_uri": "https://localhost:8080/"
        },
        "execution": {
          "iopub.execute_input": "2023-04-30T19:45:23.340074Z",
          "iopub.status.busy": "2023-04-30T19:45:23.339841Z",
          "iopub.status.idle": "2023-04-30T19:45:23.346066Z",
          "shell.execute_reply": "2023-04-30T19:45:23.345319Z",
          "shell.execute_reply.started": "2023-04-30T19:45:23.340043Z"
        },
        "id": "Icq8oRD4q-0u",
        "outputId": "db635904-b308-4c01-9523-78bfd7cd9fbb",
        "trusted": true
      },
      "outputs": [
        {
          "data": {
            "text/plain": [
              "['startseq \"a girl in swimsuit stands in the spray of water bicycle in the background .\" endseq',\n",
              " 'startseq little girl in green bathing suit is getting splashed in water fountain endseq',\n",
              " 'startseq little girl reacts to spray of water endseq',\n",
              " 'startseq young girl in green bathing suit getting splashed with water endseq',\n",
              " 'startseq young girl wearing green bathing suit has water sprayed on her back endseq']"
            ]
          },
          "execution_count": 40,
          "metadata": {},
          "output_type": "execute_result"
        }
      ],
      "source": [
        "# after preprocess of text\n",
        "mapping['3765374230_cb1bbee0cb']"
      ]
    },
    {
      "cell_type": "markdown",
      "metadata": {
        "id": "__5iMNZHq-0v"
      },
      "source": [
        "#### Next we will store the preprocessed captions into a list"
      ]
    },
    {
      "cell_type": "code",
      "execution_count": null,
      "metadata": {
        "execution": {
          "iopub.execute_input": "2023-04-30T19:45:23.347914Z",
          "iopub.status.busy": "2023-04-30T19:45:23.347386Z",
          "iopub.status.idle": "2023-04-30T19:45:23.367987Z",
          "shell.execute_reply": "2023-04-30T19:45:23.367030Z",
          "shell.execute_reply.started": "2023-04-30T19:45:23.347876Z"
        },
        "id": "js0YHATZq-0w",
        "trusted": true
      },
      "outputs": [],
      "source": [
        "all_captions = []\n",
        "for key in mapping:\n",
        "    for caption in mapping[key]:\n",
        "        all_captions.append(caption)"
      ]
    },
    {
      "cell_type": "code",
      "execution_count": null,
      "metadata": {
        "colab": {
          "base_uri": "https://localhost:8080/"
        },
        "execution": {
          "iopub.execute_input": "2023-04-30T19:45:23.370073Z",
          "iopub.status.busy": "2023-04-30T19:45:23.369741Z",
          "iopub.status.idle": "2023-04-30T19:45:23.379404Z",
          "shell.execute_reply": "2023-04-30T19:45:23.378529Z",
          "shell.execute_reply.started": "2023-04-30T19:45:23.370032Z"
        },
        "id": "F2nQsFiBq-0x",
        "outputId": "d6da6db1-0a7b-4149-edf7-5759e2bf2228",
        "trusted": true
      },
      "outputs": [
        {
          "data": {
            "text/plain": [
              "5"
            ]
          },
          "execution_count": 42,
          "metadata": {},
          "output_type": "execute_result"
        }
      ],
      "source": [
        "len(all_captions)"
      ]
    },
    {
      "cell_type": "markdown",
      "metadata": {
        "id": "d640ifQ3q-00"
      },
      "source": [
        "# Processing of Text Data\n",
        "Now we start processing the text data"
      ]
    },
    {
      "cell_type": "code",
      "execution_count": null,
      "metadata": {
        "execution": {
          "iopub.execute_input": "2023-04-30T19:45:23.389878Z",
          "iopub.status.busy": "2023-04-30T19:45:23.389622Z",
          "iopub.status.idle": "2023-04-30T19:45:23.980658Z",
          "shell.execute_reply": "2023-04-30T19:45:23.979886Z",
          "shell.execute_reply.started": "2023-04-30T19:45:23.389844Z"
        },
        "id": "cOWILfIeq-00",
        "trusted": true
      },
      "outputs": [],
      "source": [
        "# tokenize the text\n",
        "tokenizer = Tokenizer()\n",
        "tokenizer.fit_on_texts(all_captions)"
      ]
    },
    {
      "cell_type": "code",
      "execution_count": null,
      "metadata": {
        "colab": {
          "base_uri": "https://localhost:8080/"
        },
        "collapsed": true,
        "execution": {
          "iopub.execute_input": "2023-04-30T19:45:23.982252Z",
          "iopub.status.busy": "2023-04-30T19:45:23.981818Z",
          "iopub.status.idle": "2023-04-30T19:45:24.015267Z",
          "shell.execute_reply": "2023-04-30T19:45:24.014059Z",
          "shell.execute_reply.started": "2023-04-30T19:45:23.982215Z"
        },
        "id": "aMFXASduq-01",
        "jupyter": {
          "outputs_hidden": true
        },
        "outputId": "a14d9f96-bf45-4759-97d0-da203d7db4b1",
        "trusted": true
      },
      "outputs": [
        {
          "data": {
            "text/plain": [
              "{'in': 1,\n",
              " 'startseq': 2,\n",
              " 'girl': 3,\n",
              " 'water': 4,\n",
              " 'endseq': 5,\n",
              " 'green': 6,\n",
              " 'bathing': 7,\n",
              " 'suit': 8,\n",
              " 'the': 9,\n",
              " 'spray': 10,\n",
              " 'of': 11,\n",
              " 'little': 12,\n",
              " 'getting': 13,\n",
              " 'splashed': 14,\n",
              " 'young': 15,\n",
              " 'a': 16,\n",
              " 'swimsuit': 17,\n",
              " 'stands': 18,\n",
              " 'bicycle': 19,\n",
              " 'background': 20,\n",
              " 'is': 21,\n",
              " 'fountain': 22,\n",
              " 'reacts': 23,\n",
              " 'to': 24,\n",
              " 'with': 25,\n",
              " 'wearing': 26,\n",
              " 'has': 27,\n",
              " 'sprayed': 28,\n",
              " 'on': 29,\n",
              " 'her': 30,\n",
              " 'back': 31}"
            ]
          },
          "execution_count": 45,
          "metadata": {},
          "output_type": "execute_result"
        }
      ],
      "source": [
        " tokenizer.word_index"
      ]
    },
    {
      "cell_type": "code",
      "execution_count": null,
      "metadata": {
        "execution": {
          "iopub.execute_input": "2023-04-30T19:45:24.018743Z",
          "iopub.status.busy": "2023-04-30T19:45:24.018508Z",
          "iopub.status.idle": "2023-04-30T19:45:24.022256Z",
          "shell.execute_reply": "2023-04-30T19:45:24.021432Z",
          "shell.execute_reply.started": "2023-04-30T19:45:24.018717Z"
        },
        "id": "DOL8dQGMq-01",
        "trusted": true
      },
      "outputs": [],
      "source": [
        "vocab_size = len(tokenizer.word_index) + 1"
      ]
    },
    {
      "cell_type": "code",
      "execution_count": null,
      "metadata": {
        "colab": {
          "base_uri": "https://localhost:8080/"
        },
        "execution": {
          "iopub.execute_input": "2023-04-30T19:45:24.024045Z",
          "iopub.status.busy": "2023-04-30T19:45:24.023738Z",
          "iopub.status.idle": "2023-04-30T19:45:24.033210Z",
          "shell.execute_reply": "2023-04-30T19:45:24.032400Z",
          "shell.execute_reply.started": "2023-04-30T19:45:24.024010Z"
        },
        "id": "h24sHWi8q-02",
        "outputId": "54d3bf68-4d80-487b-f671-dcee0b53a75f",
        "trusted": true
      },
      "outputs": [
        {
          "data": {
            "text/plain": [
              "32"
            ]
          },
          "execution_count": 47,
          "metadata": {},
          "output_type": "execute_result"
        }
      ],
      "source": [
        "\n",
        "vocab_size"
      ]
    },
    {
      "cell_type": "markdown",
      "metadata": {
        "id": "Px1tzEGnq-02"
      },
      "source": [
        "No. of unique words"
      ]
    },
    {
      "cell_type": "code",
      "execution_count": null,
      "metadata": {
        "colab": {
          "base_uri": "https://localhost:8080/"
        },
        "execution": {
          "iopub.execute_input": "2023-04-30T19:45:24.034893Z",
          "iopub.status.busy": "2023-04-30T19:45:24.034628Z",
          "iopub.status.idle": "2023-04-30T19:45:24.071567Z",
          "shell.execute_reply": "2023-04-30T19:45:24.070840Z",
          "shell.execute_reply.started": "2023-04-30T19:45:24.034857Z"
        },
        "id": "FllR0P3Wq-03",
        "outputId": "52aa37b1-2a14-4e4f-9cf8-ba4eef1a9687",
        "trusted": true
      },
      "outputs": [
        {
          "data": {
            "text/plain": [
              "17"
            ]
          },
          "execution_count": 48,
          "metadata": {},
          "output_type": "execute_result"
        }
      ],
      "source": [
        "# get maximum length of the caption available\n",
        "max_length = max(len(caption.split()) for caption in all_captions)\n",
        "max_length"
      ]
    },
    {
      "cell_type": "markdown",
      "metadata": {
        "id": "hbAh4rGHq-03"
      },
      "source": [
        "+ Finding the maximum length of the captions, used for reference for the padding sequence."
      ]
    },
    {
      "cell_type": "markdown",
      "metadata": {
        "id": "qdrz3xlWq-03"
      },
      "source": [
        "# Train Test Split"
      ]
    },
    {
      "cell_type": "markdown",
      "metadata": {
        "id": "BNr_sZA9q-04"
      },
      "source": [
        "#### After preprocessing the data now we will train, test and split"
      ]
    },
    {
      "cell_type": "code",
      "execution_count": null,
      "metadata": {
        "execution": {
          "iopub.execute_input": "2023-04-30T19:45:24.074947Z",
          "iopub.status.busy": "2023-04-30T19:45:24.074740Z",
          "iopub.status.idle": "2023-04-30T19:45:24.080078Z",
          "shell.execute_reply": "2023-04-30T19:45:24.079398Z",
          "shell.execute_reply.started": "2023-04-30T19:45:24.074923Z"
        },
        "id": "ucLUYTfYq-04",
        "trusted": true
      },
      "outputs": [],
      "source": [
        "image_ids = list(mapping.keys())\n",
        "# split = int(len(image_ids) * 0.90)\n",
        "train = image_ids\n",
        "test = image_ids"
      ]
    },
    {
      "cell_type": "markdown",
      "metadata": {
        "id": "SJtTC5uWq-05"
      },
      "source": [
        "**Now we will define a batch and include the padding sequence**"
      ]
    },
    {
      "cell_type": "code",
      "execution_count": null,
      "metadata": {
        "execution": {
          "iopub.execute_input": "2023-04-30T19:45:24.082242Z",
          "iopub.status.busy": "2023-04-30T19:45:24.081393Z",
          "iopub.status.idle": "2023-04-30T19:45:24.091957Z",
          "shell.execute_reply": "2023-04-30T19:45:24.091165Z",
          "shell.execute_reply.started": "2023-04-30T19:45:24.082205Z"
        },
        "id": "THFJdzfUq-05",
        "trusted": true
      },
      "outputs": [],
      "source": [
        "# create data generator to get data in batch (avoids session crash)\n",
        "def data_generator(data_keys, mapping, features, tokenizer, max_length, vocab_size, batch_size):\n",
        "    # loop over images\n",
        "    X1, X2, y = list(), list(), list()\n",
        "    n = 0\n",
        "    while 1:\n",
        "        for key in data_keys:\n",
        "            n += 1\n",
        "            captions = mapping[key]\n",
        "            # process each caption\n",
        "            for caption in captions:\n",
        "                # encode the sequence\n",
        "                seq = tokenizer.texts_to_sequences([caption])[0]\n",
        "                # split the sequence into X, y pairs\n",
        "                for i in range(1, len(seq)):\n",
        "                    # split into input and output pairs\n",
        "                    in_seq, out_seq = seq[:i], seq[i]\n",
        "                    # pad input sequence\n",
        "                    in_seq = pad_sequences([in_seq], maxlen=max_length)[0]\n",
        "                    # encode output sequence\n",
        "                    out_seq = to_categorical([out_seq],num_classes=vocab_size)[0]\n",
        "                    # store the sequences\n",
        "                    X1.append(features[key][0])\n",
        "                    X2.append(in_seq)\n",
        "                    y.append(out_seq)\n",
        "            if n == 1:\n",
        "                X1, X2, y = np.array(X1), np.array(X2), np.array(y)\n",
        "                yield [X1, X2], y\n",
        "                X1, X2, y = list(), list(), list()\n",
        "                n = 0"
      ]
    },
    {
      "cell_type": "markdown",
      "metadata": {
        "id": "e-wO9_J1q-05"
      },
      "source": [
        "Padding sequence normalizes the size of all captions to the max size filling them with zeros for better results."
      ]
    },
    {
      "cell_type": "markdown",
      "metadata": {
        "id": "x43QDN6gq-06"
      },
      "source": [
        "# Model Creation"
      ]
    },
    {
      "cell_type": "markdown",
      "metadata": {
        "id": "oHlUU6kwq-06"
      },
      "source": [
        "+ **shape=(4096,)** - output length of the features from the VGG model\n",
        "\n",
        "+ **Dense** - single dimension linear layer array\n",
        "\n",
        "+ **Dropout()** - used to add regularization to the data, avoiding over fitting & dropping out a fraction of the data from the layers\n",
        "\n",
        "+ **model.compile()** - compilation of the model\n",
        "\n",
        "+ **loss=’sparse_categorical_crossentropy’** - loss function for category outputs\n",
        "\n",
        "+ **optimizer=’adam’** - automatically adjust the learning rate for the model over the no. of epochs\n",
        "\n",
        "+ Model plot shows the concatenation of the inputs and outputs into a single layer\n",
        "\n",
        "+ Feature extraction of image was already done using VGG, no CNN model was needed in this step."
      ]
    },
    {
      "cell_type": "markdown",
      "metadata": {
        "id": "SimuIld5q-07"
      },
      "source": [
        "# Train Model\n",
        "Now let us train the model"
      ]
    },
    {
      "cell_type": "code",
      "execution_count": null,
      "metadata": {
        "id": "dDpiAxrd0dKu"
      },
      "outputs": [],
      "source": [
        "# Load ResNet101 Model\n",
        "model = ResNet101(include_top=False, weights='imagenet', pooling='avg')\n",
        "\n",
        "# restructure model\n",
        "model = Model(inputs = model.inputs , outputs = model.output)"
      ]
    },
    {
      "cell_type": "code",
      "execution_count": null,
      "metadata": {
        "colab": {
          "base_uri": "https://localhost:8080/"
        },
        "execution": {
          "iopub.execute_input": "2023-04-30T19:48:16.934305Z",
          "iopub.status.busy": "2023-04-30T19:48:16.933416Z",
          "iopub.status.idle": "2023-04-30T19:48:44.033870Z",
          "shell.execute_reply": "2023-04-30T19:48:44.033047Z",
          "shell.execute_reply.started": "2023-04-30T19:48:16.934265Z"
        },
        "id": "E6ot4JWKq-07",
        "outputId": "d73a0281-8a3d-4aae-f2e9-95b5bb13b85b",
        "trusted": true
      },
      "outputs": [
        {
          "data": {
            "text/plain": [
              "(32, 300)"
            ]
          },
          "execution_count": 55,
          "metadata": {},
          "output_type": "execute_result"
        }
      ],
      "source": [
        "# load glove vectors for embedding layer\n",
        "embeddings_index = {}\n",
        "golve_path ='/content/drive/MyDrive/ML/glove.6B.300d.txt'\n",
        "glove = open(golve_path, 'r', encoding = 'utf-8').read()\n",
        "for line in glove.split(\"\\n\"):\n",
        "    values = line.split(\" \")\n",
        "    word = values[0]\n",
        "    indices = np.asarray(values[1: ], dtype = 'float32')\n",
        "    embeddings_index[word] = indices\n",
        "\n",
        "emb_dim = 300\n",
        "emb_matrix = np.zeros((vocab_size, emb_dim))\n",
        "\n",
        "for word, i in tokenizer.word_index.items():\n",
        "    emb_vec = embeddings_index.get(word)\n",
        "    if emb_vec is not None:\n",
        "        emb_matrix[i] = emb_vec\n",
        "emb_matrix.shape\n",
        "\n"
      ]
    },
    {
      "cell_type": "code",
      "execution_count": null,
      "metadata": {
        "colab": {
          "base_uri": "https://localhost:8080/"
        },
        "id": "nhEuzU0dz2s4",
        "outputId": "568ab3d3-9bc0-425e-cbc4-d57c20ee8e10"
      },
      "outputs": [
        {
          "data": {
            "text/plain": [
              "(32, 300)"
            ]
          },
          "execution_count": 56,
          "metadata": {},
          "output_type": "execute_result"
        }
      ],
      "source": [
        "emb_matrix.shape"
      ]
    },
    {
      "cell_type": "code",
      "execution_count": null,
      "metadata": {
        "colab": {
          "base_uri": "https://localhost:8080/",
          "height": 419
        },
        "id": "RCQMm4jKKtR1",
        "outputId": "e8336d6a-1f3d-4636-bf3d-6cd11d419324"
      },
      "outputs": [
        {
          "ename": "ValueError",
          "evalue": "ignored",
          "output_type": "error",
          "traceback": [
            "\u001b[0;31m---------------------------------------------------------------------------\u001b[0m",
            "\u001b[0;31mValueError\u001b[0m                                Traceback (most recent call last)",
            "\u001b[0;32m<ipython-input-84-6d856c8d0be8>\u001b[0m in \u001b[0;36m<cell line: 6>\u001b[0;34m()\u001b[0m\n\u001b[1;32m      8\u001b[0m     \u001b[0mgenerator\u001b[0m \u001b[0;34m=\u001b[0m \u001b[0mdata_generator\u001b[0m\u001b[0;34m(\u001b[0m\u001b[0mtrain\u001b[0m\u001b[0;34m,\u001b[0m \u001b[0mmapping\u001b[0m\u001b[0;34m,\u001b[0m \u001b[0mfeatures\u001b[0m\u001b[0;34m,\u001b[0m \u001b[0mtokenizer\u001b[0m\u001b[0;34m,\u001b[0m \u001b[0mmax_length\u001b[0m\u001b[0;34m,\u001b[0m \u001b[0mvocab_size\u001b[0m\u001b[0;34m,\u001b[0m \u001b[0mbatch_size\u001b[0m\u001b[0;34m)\u001b[0m\u001b[0;34m\u001b[0m\u001b[0;34m\u001b[0m\u001b[0m\n\u001b[1;32m      9\u001b[0m     \u001b[0;31m# fit for one epoch\u001b[0m\u001b[0;34m\u001b[0m\u001b[0;34m\u001b[0m\u001b[0m\n\u001b[0;32m---> 10\u001b[0;31m     \u001b[0mmodel\u001b[0m\u001b[0;34m.\u001b[0m\u001b[0mfit\u001b[0m\u001b[0;34m(\u001b[0m\u001b[0mgenerator\u001b[0m\u001b[0;34m,\u001b[0m \u001b[0mepochs\u001b[0m\u001b[0;34m=\u001b[0m\u001b[0;36m1\u001b[0m\u001b[0;34m,\u001b[0m \u001b[0msteps_per_epoch\u001b[0m\u001b[0;34m=\u001b[0m\u001b[0msteps\u001b[0m\u001b[0;34m,\u001b[0m \u001b[0mverbose\u001b[0m\u001b[0;34m=\u001b[0m\u001b[0;36m1\u001b[0m\u001b[0;34m)\u001b[0m\u001b[0;34m\u001b[0m\u001b[0;34m\u001b[0m\u001b[0m\n\u001b[0m",
            "\u001b[0;32m/usr/local/lib/python3.10/dist-packages/keras/src/utils/traceback_utils.py\u001b[0m in \u001b[0;36merror_handler\u001b[0;34m(*args, **kwargs)\u001b[0m\n\u001b[1;32m     68\u001b[0m             \u001b[0;31m# To get the full stack trace, call:\u001b[0m\u001b[0;34m\u001b[0m\u001b[0;34m\u001b[0m\u001b[0m\n\u001b[1;32m     69\u001b[0m             \u001b[0;31m# `tf.debugging.disable_traceback_filtering()`\u001b[0m\u001b[0;34m\u001b[0m\u001b[0;34m\u001b[0m\u001b[0m\n\u001b[0;32m---> 70\u001b[0;31m             \u001b[0;32mraise\u001b[0m \u001b[0me\u001b[0m\u001b[0;34m.\u001b[0m\u001b[0mwith_traceback\u001b[0m\u001b[0;34m(\u001b[0m\u001b[0mfiltered_tb\u001b[0m\u001b[0;34m)\u001b[0m \u001b[0;32mfrom\u001b[0m \u001b[0;32mNone\u001b[0m\u001b[0;34m\u001b[0m\u001b[0;34m\u001b[0m\u001b[0m\n\u001b[0m\u001b[1;32m     71\u001b[0m         \u001b[0;32mfinally\u001b[0m\u001b[0;34m:\u001b[0m\u001b[0;34m\u001b[0m\u001b[0;34m\u001b[0m\u001b[0m\n\u001b[1;32m     72\u001b[0m             \u001b[0;32mdel\u001b[0m \u001b[0mfiltered_tb\u001b[0m\u001b[0;34m\u001b[0m\u001b[0;34m\u001b[0m\u001b[0m\n",
            "\u001b[0;32m/usr/local/lib/python3.10/dist-packages/keras/src/engine/training.py\u001b[0m in \u001b[0;36mfit\u001b[0;34m(self, x, y, batch_size, epochs, verbose, callbacks, validation_split, validation_data, shuffle, class_weight, sample_weight, initial_epoch, steps_per_epoch, validation_steps, validation_batch_size, validation_freq, max_queue_size, workers, use_multiprocessing)\u001b[0m\n\u001b[1;32m   1752\u001b[0m                 \u001b[0mlogs\u001b[0m \u001b[0;34m=\u001b[0m \u001b[0mtf_utils\u001b[0m\u001b[0;34m.\u001b[0m\u001b[0msync_to_numpy_or_python_type\u001b[0m\u001b[0;34m(\u001b[0m\u001b[0mlogs\u001b[0m\u001b[0;34m)\u001b[0m\u001b[0;34m\u001b[0m\u001b[0;34m\u001b[0m\u001b[0m\n\u001b[1;32m   1753\u001b[0m                 \u001b[0;32mif\u001b[0m \u001b[0mlogs\u001b[0m \u001b[0;32mis\u001b[0m \u001b[0;32mNone\u001b[0m\u001b[0;34m:\u001b[0m\u001b[0;34m\u001b[0m\u001b[0;34m\u001b[0m\u001b[0m\n\u001b[0;32m-> 1754\u001b[0;31m                     raise ValueError(\n\u001b[0m\u001b[1;32m   1755\u001b[0m                         \u001b[0;34m\"Unexpected result of `train_function` \"\u001b[0m\u001b[0;34m\u001b[0m\u001b[0;34m\u001b[0m\u001b[0m\n\u001b[1;32m   1756\u001b[0m                         \u001b[0;34m\"(Empty logs). This could be due to issues in input \"\u001b[0m\u001b[0;34m\u001b[0m\u001b[0;34m\u001b[0m\u001b[0m\n",
            "\u001b[0;31mValueError\u001b[0m: Unexpected result of `train_function` (Empty logs). This could be due to issues in input pipeline that resulted in an empty dataset. Otherwise, please use `Model.compile(..., run_eagerly=True)`, or `tf.config.run_functions_eagerly(True)` for more information of where went wrong, or file a issue/bug to `tf.keras`."
          ]
        }
      ],
      "source": [
        "# train the model\n",
        "epochs = 20\n",
        "batch_size = 32\n",
        "steps = len(train) // batch_size\n",
        "\n",
        "for i in range(epochs):\n",
        "    # create data generator\n",
        "    generator = data_generator(train, mapping, features, tokenizer, max_length, vocab_size, batch_size)\n",
        "    # fit for one epoch\n",
        "    model.fit(generator, epochs=1, steps_per_epoch=steps, verbose=1)"
      ]
    },
    {
      "cell_type": "code",
      "execution_count": null,
      "metadata": {
        "colab": {
          "base_uri": "https://localhost:8080/"
        },
        "id": "8KZcziagXr19",
        "outputId": "dbfd3f5a-a888-4c39-e4eb-e3ec9c5cf849"
      },
      "outputs": [
        {
          "name": "stderr",
          "output_type": "stream",
          "text": [
            "WARNING:tensorflow:6 out of the last 90 calls to <function Model.make_predict_function.<locals>.predict_function at 0x7abcaddaa320> triggered tf.function retracing. Tracing is expensive and the excessive number of tracings could be due to (1) creating @tf.function repeatedly in a loop, (2) passing tensors with different shapes, (3) passing Python objects instead of tensors. For (1), please define your @tf.function outside of the loop. For (2), @tf.function has reduce_retracing=True option that can avoid unnecessary retracing. For (3), please refer to https://www.tensorflow.org/guide/function#controlling_retracing and https://www.tensorflow.org/api_docs/python/tf/function for  more details.\n"
          ]
        },
        {
          "name": "stdout",
          "output_type": "stream",
          "text": [
            "1/1 [==============================] - 3s 3s/step\n",
            "startseq UNKNOWN UNKNOWN UNKNOWN UNKNOWN UNKNOWN UNKNOWN UNKNOWN UNKNOWN UNKNOWN UNKNOWN UNKNOWN UNKNOWN UNKNOWN UNKNOWN UNKNOWN UNKNOWN UNKNOWN UNKNOWN UNKNOWN UNKNOWN UNKNOWN UNKNOWN UNKNOWN UNKNOWN UNKNOWN UNKNOWN UNKNOWN UNKNOWN UNKNOWN UNKNOWN UNKNOWN UNKNOWN UNKNOWN UNKNOWN\n"
          ]
        }
      ],
      "source": [
        "import numpy as np\n",
        "import tensorflow as tf\n",
        "from tensorflow.keras.preprocessing import image\n",
        "from tensorflow.keras.preprocessing.sequence import pad_sequences\n",
        "from tensorflow.keras.applications.inception_v3 import InceptionV3\n",
        "from tensorflow.keras.models import Model\n",
        "from tensorflow.keras.layers import Input, Dense, Embedding, LSTM\n",
        "from tensorflow.keras.utils import to_categorical\n",
        "\n",
        "# Load the InceptionV3 model pretrained on ImageNet\n",
        "base_model = InceptionV3(weights='imagenet')\n",
        "model = Model(inputs=base_model.input, outputs=base_model.layers[-2].output)\n",
        "\n",
        "# Function to preprocess the input image\n",
        "def preprocess_image(img_path):\n",
        "    img = image.load_img(img_path, target_size=(299, 299))\n",
        "    img_array = image.img_to_array(img)\n",
        "    img_array = np.expand_dims(img_array, axis=0)\n",
        "    img_array = tf.keras.applications.inception_v3.preprocess_input(img_array)\n",
        "    return img_array\n",
        "\n",
        "# Function to generate image features\n",
        "def generate_image_features(img_path):\n",
        "    img_array = preprocess_image(img_path)\n",
        "    features = model.predict(img_array)\n",
        "    return features\n",
        "\n",
        "# Load and preprocess the image\n",
        "img_path = \"/content/drive/MyDrive/ML/Images/3765374230_cb1bbee0cb.jpg\"\n",
        "image_features = generate_image_features(img_path)\n",
        "\n",
        "# Define the captioning model\n",
        "# ...\n",
        "\n",
        "# Define the captioning model\n",
        "embedding_dim = 300  # Adjust as needed\n",
        "vocab_size = 10000  # Adjust as needed\n",
        "\n",
        "inputs1 = Input(shape=(2048,))\n",
        "fe1 = Dense(embedding_dim, activation='relu')(inputs1)\n",
        "\n",
        "inputs2 = Input(shape=(None,))\n",
        "se1 = Embedding(vocab_size, embedding_dim, mask_zero=True)(inputs2)\n",
        "se2 = LSTM(300)(se1)  # Adjust the size to match the Dense layer\n",
        "\n",
        "decoder1 = tf.keras.layers.add([fe1, se2])\n",
        "decoder2 = Dense(256, activation='relu')(decoder1)\n",
        "outputs = Dense(vocab_size, activation='softmax')(decoder2)\n",
        "\n",
        "caption_model = Model(inputs=[inputs1, inputs2], outputs=outputs)\n",
        "\n",
        "# ...\n",
        "\n",
        "\n",
        "# Compile the model\n",
        "caption_model.compile(loss='categorical_crossentropy', optimizer='adam')\n",
        "\n",
        "# Load the pre-trained weights for the captioning model (optional)\n",
        "# caption_model.load_weights('path/to/your/pretrained_weights.h5')\n",
        "\n",
        "# Define a function to generate a caption for a given image\n",
        "def generate_caption(photo):\n",
        "    in_text = 'startseq'\n",
        "    for _ in range(max_length):\n",
        "        sequence = [word_to_index[word] for word in in_text.split() if word in word_to_index]\n",
        "        sequence = pad_sequences([sequence], maxlen=max_length)\n",
        "        yhat = caption_model.predict([photo, sequence], verbose=0)\n",
        "        yhat = np.argmax(yhat)\n",
        "        try:\n",
        "            word = index_to_word[yhat]\n",
        "        except KeyError:\n",
        "            # Handle the case where the index is not in the dictionary\n",
        "            word = 'UNKNOWN'\n",
        "        in_text += ' ' + word\n",
        "        if word == 'endseq':\n",
        "            break\n",
        "    return in_text\n",
        "\n",
        "# Example usage\n",
        "max_length = 34  # Adjust as needed based on your dataset\n",
        "word_to_index = {}  # Your word-to-index mapping\n",
        "index_to_word = {}  # Your index-to-word mapping\n",
        "\n",
        "caption = generate_caption(image_features)\n",
        "print(caption)\n"
      ]
    },
    {
      "cell_type": "code",
      "execution_count": null,
      "metadata": {
        "colab": {
          "base_uri": "https://localhost:8080/",
          "height": 344
        },
        "id": "AFQVDWHTKJP0",
        "outputId": "2cb3a46d-0fbb-4773-8b83-758f10322b83"
      },
      "outputs": [
        {
          "ename": "ValueError",
          "evalue": "ignored",
          "output_type": "error",
          "traceback": [
            "\u001b[0;31m---------------------------------------------------------------------------\u001b[0m",
            "\u001b[0;31mValueError\u001b[0m                                Traceback (most recent call last)",
            "\u001b[0;32m<ipython-input-83-79d3b13403d6>\u001b[0m in \u001b[0;36m<cell line: 1>\u001b[0;34m()\u001b[0m\n\u001b[0;32m----> 1\u001b[0;31m \u001b[0mmodel\u001b[0m\u001b[0;34m.\u001b[0m\u001b[0mlayers\u001b[0m\u001b[0;34m[\u001b[0m\u001b[0;36m2\u001b[0m\u001b[0;34m]\u001b[0m\u001b[0;34m.\u001b[0m\u001b[0mset_weights\u001b[0m\u001b[0;34m(\u001b[0m\u001b[0;34m[\u001b[0m\u001b[0memb_matrix\u001b[0m\u001b[0;34m]\u001b[0m\u001b[0;34m)\u001b[0m\u001b[0;34m\u001b[0m\u001b[0;34m\u001b[0m\u001b[0m\n\u001b[0m\u001b[1;32m      2\u001b[0m \u001b[0mmodel\u001b[0m\u001b[0;34m.\u001b[0m\u001b[0mlayers\u001b[0m\u001b[0;34m[\u001b[0m\u001b[0;36m2\u001b[0m\u001b[0;34m]\u001b[0m\u001b[0;34m.\u001b[0m\u001b[0mtrainable\u001b[0m \u001b[0;34m=\u001b[0m \u001b[0;32mFalse\u001b[0m\u001b[0;34m\u001b[0m\u001b[0;34m\u001b[0m\u001b[0m\n\u001b[1;32m      3\u001b[0m \u001b[0;34m\u001b[0m\u001b[0m\n",
            "\u001b[0;32m/usr/local/lib/python3.10/dist-packages/keras/src/engine/base_layer.py\u001b[0m in \u001b[0;36mset_weights\u001b[0;34m(self, weights)\u001b[0m\n\u001b[1;32m   1805\u001b[0m \u001b[0;34m\u001b[0m\u001b[0m\n\u001b[1;32m   1806\u001b[0m         \u001b[0;32mif\u001b[0m \u001b[0mexpected_num_weights\u001b[0m \u001b[0;34m!=\u001b[0m \u001b[0mlen\u001b[0m\u001b[0;34m(\u001b[0m\u001b[0mweights\u001b[0m\u001b[0;34m)\u001b[0m\u001b[0;34m:\u001b[0m\u001b[0;34m\u001b[0m\u001b[0;34m\u001b[0m\u001b[0m\n\u001b[0;32m-> 1807\u001b[0;31m             raise ValueError(\n\u001b[0m\u001b[1;32m   1808\u001b[0m                 \u001b[0;34m'You called `set_weights(weights)` on layer \"%s\" '\u001b[0m\u001b[0;34m\u001b[0m\u001b[0;34m\u001b[0m\u001b[0m\n\u001b[1;32m   1809\u001b[0m                 \u001b[0;34m\"with a weight list of length %s, but the layer was \"\u001b[0m\u001b[0;34m\u001b[0m\u001b[0;34m\u001b[0m\u001b[0m\n",
            "\u001b[0;31mValueError\u001b[0m: You called `set_weights(weights)` on layer \"conv1_conv\" with a weight list of length 1, but the layer was expecting 2 weights. Provided weights: [array([[ 0.        ,  0.        ,  0.        , ....."
          ]
        }
      ],
      "source": [
        "model.layers[2].set_weights([emb_matrix])\n",
        "model.layers[2].trainable = False\n",
        "\n"
      ]
    },
    {
      "cell_type": "code",
      "execution_count": null,
      "metadata": {
        "id": "DsOqNl77Hsaa"
      },
      "outputs": [],
      "source": []
    },
    {
      "cell_type": "code",
      "execution_count": null,
      "metadata": {
        "id": "KJPIRBcfGbdt"
      },
      "outputs": [],
      "source": [
        "x = features['3765374230_cb1bbee0cb']"
      ]
    },
    {
      "cell_type": "code",
      "execution_count": null,
      "metadata": {
        "colab": {
          "base_uri": "https://localhost:8080/"
        },
        "id": "QBVnJ_BNG-am",
        "outputId": "2b996b21-b093-4cce-bc99-d4d424862129"
      },
      "outputs": [
        {
          "data": {
            "text/plain": [
              "(1, 2048)"
            ]
          },
          "execution_count": 78,
          "metadata": {},
          "output_type": "execute_result"
        }
      ],
      "source": [
        "x.shape"
      ]
    },
    {
      "cell_type": "markdown",
      "metadata": {
        "id": "qPSR584Rq-08"
      },
      "source": [
        "+ **steps = len(train) // batch_size** - back propagation and fetch the next data\n",
        "\n",
        "+ Loss decreases gradually over the iterations\n",
        "\n",
        "+ Increase the no. of epochs for better results\n",
        "\n",
        "+ Assign the no. of epochs and batch size accordingly for quicker results\n",
        "\n",
        "\n",
        "### You can save the model in the working directory for reuse"
      ]
    },
    {
      "cell_type": "code",
      "execution_count": null,
      "metadata": {
        "colab": {
          "base_uri": "https://localhost:8080/"
        },
        "execution": {
          "iopub.execute_input": "2023-04-30T20:12:15.387271Z",
          "iopub.status.busy": "2023-04-30T20:12:15.386942Z",
          "iopub.status.idle": "2023-04-30T20:12:15.521965Z",
          "shell.execute_reply": "2023-04-30T20:12:15.520315Z",
          "shell.execute_reply.started": "2023-04-30T20:12:15.387234Z"
        },
        "id": "Pct6FvNbq-09",
        "outputId": "9f9841d5-d60b-47fe-9792-ceac835394dd",
        "trusted": true
      },
      "outputs": [
        {
          "name": "stderr",
          "output_type": "stream",
          "text": [
            "/usr/local/lib/python3.10/dist-packages/keras/src/engine/training.py:3000: UserWarning: You are saving your model as an HDF5 file via `model.save()`. This file format is considered legacy. We recommend using instead the native Keras format, e.g. `model.save('my_model.keras')`.\n",
            "  saving_api.save_model(\n"
          ]
        }
      ],
      "source": [
        "# save the model\n",
        "model.save(WORKING_DIR+'/model_with_glove.h5')"
      ]
    },
    {
      "cell_type": "markdown",
      "metadata": {
        "id": "FFW_1Vv1q-09"
      },
      "source": [
        "# Generate Captions for the Image"
      ]
    },
    {
      "cell_type": "code",
      "execution_count": null,
      "metadata": {
        "execution": {
          "iopub.execute_input": "2023-04-30T20:12:15.523582Z",
          "iopub.status.busy": "2023-04-30T20:12:15.523306Z",
          "iopub.status.idle": "2023-04-30T20:12:15.528995Z",
          "shell.execute_reply": "2023-04-30T20:12:15.528194Z",
          "shell.execute_reply.started": "2023-04-30T20:12:15.523546Z"
        },
        "id": "6Ey8kVDmq-09",
        "trusted": true
      },
      "outputs": [],
      "source": [
        "def idx_to_word(integer, tokenizer):\n",
        "    for word, index in tokenizer.word_index.items():\n",
        "        if index == integer:\n",
        "            return word\n",
        "    return None"
      ]
    },
    {
      "cell_type": "markdown",
      "metadata": {
        "id": "mNgzZ15Qq-0-"
      },
      "source": [
        "+ Convert the predicted index from the model into a word"
      ]
    },
    {
      "cell_type": "code",
      "execution_count": null,
      "metadata": {
        "execution": {
          "iopub.execute_input": "2023-04-30T20:12:15.530736Z",
          "iopub.status.busy": "2023-04-30T20:12:15.530124Z",
          "iopub.status.idle": "2023-04-30T20:12:15.538796Z",
          "shell.execute_reply": "2023-04-30T20:12:15.538059Z",
          "shell.execute_reply.started": "2023-04-30T20:12:15.530700Z"
        },
        "id": "WOuh6pFhq-0-",
        "trusted": true
      },
      "outputs": [],
      "source": [
        "# generate caption for an image\n",
        "model='/content/drive/MyDrive/ML/model_18.h5'\n",
        "def predict_caption(model, image, tokenizer, max_length):\n",
        "    # add start tag for generation process\n",
        "    in_text = 'startseq'\n",
        "    # iterate over the max length of sequence\n",
        "    for i in range(max_length):\n",
        "        # encode input sequence\n",
        "        sequence = tokenizer.texts_to_sequences([in_text])[0]\n",
        "        # pad the sequence\n",
        "        sequence = pad_sequences([sequence], max_length)\n",
        "        # predict next word\n",
        "        yhat = model.predict([image, sequence], verbose=0)\n",
        "        # get index with high probability\n",
        "        yhat = np.argmax(yhat)\n",
        "        # convert index to word\n",
        "        word = idx_to_word(yhat, tokenizer)\n",
        "        # stop if word not found\n",
        "        if word is None:\n",
        "            break\n",
        "        # append word as input for generating next word\n",
        "        in_text += \" \" + word\n",
        "        # stop if we reach end tag\n",
        "        if word == 'endseq':\n",
        "            break\n",
        "    return in_text"
      ]
    },
    {
      "cell_type": "markdown",
      "metadata": {
        "id": "4HopVbLwq-0_"
      },
      "source": [
        "+ Captiongenerator appending all the words for an image\n",
        "\n",
        "+ The caption starts with 'startseq' and the model continues to predict the caption until the 'endseq' appeared"
      ]
    },
    {
      "cell_type": "markdown",
      "metadata": {
        "id": "EjZZGc7Aq-1B"
      },
      "source": [
        "## Visualize the Results"
      ]
    },
    {
      "cell_type": "code",
      "execution_count": null,
      "metadata": {
        "execution": {
          "iopub.execute_input": "2023-04-30T20:18:18.896531Z",
          "iopub.status.busy": "2023-04-30T20:18:18.896114Z",
          "iopub.status.idle": "2023-04-30T20:18:18.903065Z",
          "shell.execute_reply": "2023-04-30T20:18:18.902115Z",
          "shell.execute_reply.started": "2023-04-30T20:18:18.896480Z"
        },
        "id": "e8VasBOOq-1C",
        "trusted": true
      },
      "outputs": [],
      "source": [
        "from PIL import Image\n",
        "import matplotlib.pyplot as plt\n",
        "def generate_caption(image_name):\n",
        "    # load the image\n",
        "    # image_name = \"1001773457_577c3a7d70.jpg\"\n",
        "    image_id = image_name.split('.')[0]\n",
        "    img_path = os.path.join(BASE_DIR, \"Images\", image_name)\n",
        "    image = Image.open(img_path)\n",
        "    captions = mapping[image_id]\n",
        "    print('---------------------Actual---------------------')\n",
        "    for caption in captions:\n",
        "        print(caption)\n",
        "    # predict the caption\n",
        "    y_pred = predict_caption(model, features[image_id], tokenizer, max_length)\n",
        "    print('--------------------Predicted--------------------')\n",
        "    print(y_pred)\n",
        "    plt.imshow(image)"
      ]
    },
    {
      "cell_type": "markdown",
      "metadata": {
        "id": "wWTPz8esq-1D"
      },
      "source": [
        "+ Image caption generator defined\n",
        "\n",
        "+ First prints the actual captions of the image then prints a predicted caption of the image"
      ]
    },
    {
      "cell_type": "code",
      "execution_count": null,
      "metadata": {
        "execution": {
          "iopub.execute_input": "2023-04-30T20:18:18.904711Z",
          "iopub.status.busy": "2023-04-30T20:18:18.904269Z",
          "iopub.status.idle": "2023-04-30T20:18:19.529070Z",
          "shell.execute_reply": "2023-04-30T20:18:19.525060Z",
          "shell.execute_reply.started": "2023-04-30T20:18:18.904666Z"
        },
        "id": "8QAgdeb8q-1D",
        "trusted": true
      },
      "outputs": [],
      "source": [
        "generate_caption(\"1001773457_577c3a7d70.jpg\")"
      ]
    },
    {
      "cell_type": "code",
      "execution_count": null,
      "metadata": {
        "execution": {
          "iopub.execute_input": "2023-04-30T20:18:19.531968Z",
          "iopub.status.busy": "2023-04-30T20:18:19.531548Z",
          "iopub.status.idle": "2023-04-30T20:18:20.247234Z",
          "shell.execute_reply": "2023-04-30T20:18:20.246217Z",
          "shell.execute_reply.started": "2023-04-30T20:18:19.531929Z"
        },
        "id": "nh4zrx5sq-1E",
        "trusted": true
      },
      "outputs": [],
      "source": [
        "generate_caption(\"1002674143_1b742ab4b8.jpg\")"
      ]
    },
    {
      "cell_type": "code",
      "execution_count": null,
      "metadata": {
        "execution": {
          "iopub.execute_input": "2023-04-30T20:18:20.251960Z",
          "iopub.status.busy": "2023-04-30T20:18:20.250678Z",
          "iopub.status.idle": "2023-04-30T20:18:21.071603Z",
          "shell.execute_reply": "2023-04-30T20:18:21.070773Z",
          "shell.execute_reply.started": "2023-04-30T20:18:20.251919Z"
        },
        "id": "bjJSDIMOq-1F",
        "trusted": true
      },
      "outputs": [],
      "source": [
        "generate_caption(\"101669240_b2d3e7f17b.jpg\")"
      ]
    },
    {
      "cell_type": "markdown",
      "metadata": {
        "id": "d7Si5wN2q-1F"
      },
      "source": [
        "# Final Thoughts\n",
        "\n",
        "+ Training the model by increasing the no. of epochs can give better and more accurate results.\n",
        "\n",
        "\n",
        "**In this project , we have built an Image Caption Generator exploring the Flickr Dataset as an advanced deep learning project using different models from image extraction and text based processing.**"
      ]
    },
    {
      "cell_type": "code",
      "execution_count": null,
      "metadata": {
        "id": "xdh-20X3q-1G"
      },
      "outputs": [],
      "source": []
    },
    {
      "cell_type": "code",
      "execution_count": null,
      "metadata": {
        "id": "frp0AoVyq-1H"
      },
      "outputs": [],
      "source": []
    }
  ],
  "metadata": {
    "colab": {
      "provenance": []
    },
    "kernelspec": {
      "display_name": "Python 3",
      "language": "python",
      "name": "python3"
    },
    "language_info": {
      "codemirror_mode": {
        "name": "ipython",
        "version": 3
      },
      "file_extension": ".py",
      "mimetype": "text/x-python",
      "name": "python",
      "nbconvert_exporter": "python",
      "pygments_lexer": "ipython3",
      "version": "3.6.4"
    },
    "widgets": {
      "application/vnd.jupyter.widget-state+json": {
        "0d28ddb0004a4a638deac24300cf0de7": {
          "model_module": "@jupyter-widgets/controls",
          "model_module_version": "1.5.0",
          "model_name": "HBoxModel",
          "state": {
            "_dom_classes": [],
            "_model_module": "@jupyter-widgets/controls",
            "_model_module_version": "1.5.0",
            "_model_name": "HBoxModel",
            "_view_count": null,
            "_view_module": "@jupyter-widgets/controls",
            "_view_module_version": "1.5.0",
            "_view_name": "HBoxView",
            "box_style": "",
            "children": [
              "IPY_MODEL_2d98ceaa25cc49a69300096b572f1c2c",
              "IPY_MODEL_bbd1cb0b30e14c2997856402a0705c72",
              "IPY_MODEL_22d22647649f41a1a9f96ea9a4ad1beb"
            ],
            "layout": "IPY_MODEL_cb2a3e4dc18b44dd99f5c6ee543a5bd7"
          }
        },
        "18c67c3f2acb446db92f0e2a8d1e6715": {
          "model_module": "@jupyter-widgets/controls",
          "model_module_version": "1.5.0",
          "model_name": "FloatProgressModel",
          "state": {
            "_dom_classes": [],
            "_model_module": "@jupyter-widgets/controls",
            "_model_module_version": "1.5.0",
            "_model_name": "FloatProgressModel",
            "_view_count": null,
            "_view_module": "@jupyter-widgets/controls",
            "_view_module_version": "1.5.0",
            "_view_name": "ProgressView",
            "bar_style": "success",
            "description": "",
            "description_tooltip": null,
            "layout": "IPY_MODEL_8a1f75df9e454974929923ace4eff01c",
            "max": 40456,
            "min": 0,
            "orientation": "horizontal",
            "style": "IPY_MODEL_9dfe8fd42d2048b9875d633d65bcbbfd",
            "value": 40456
          }
        },
        "22d22647649f41a1a9f96ea9a4ad1beb": {
          "model_module": "@jupyter-widgets/controls",
          "model_module_version": "1.5.0",
          "model_name": "HTMLModel",
          "state": {
            "_dom_classes": [],
            "_model_module": "@jupyter-widgets/controls",
            "_model_module_version": "1.5.0",
            "_model_name": "HTMLModel",
            "_view_count": null,
            "_view_module": "@jupyter-widgets/controls",
            "_view_module_version": "1.5.0",
            "_view_name": "HTMLView",
            "description": "",
            "description_tooltip": null,
            "layout": "IPY_MODEL_4cf89a6ac1cb4ee4bcdb9a901182ed0f",
            "placeholder": "​",
            "style": "IPY_MODEL_a19f7882201e40228c2d1de8654b37b9",
            "value": " 1/1 [00:02&lt;00:00,  2.65s/it]"
          }
        },
        "28db6c7f1c0249568fa56f6ba21cb519": {
          "model_module": "@jupyter-widgets/controls",
          "model_module_version": "1.5.0",
          "model_name": "DescriptionStyleModel",
          "state": {
            "_model_module": "@jupyter-widgets/controls",
            "_model_module_version": "1.5.0",
            "_model_name": "DescriptionStyleModel",
            "_view_count": null,
            "_view_module": "@jupyter-widgets/base",
            "_view_module_version": "1.2.0",
            "_view_name": "StyleView",
            "description_width": ""
          }
        },
        "2d4b421e49d749e49693bc061f776b83": {
          "model_module": "@jupyter-widgets/controls",
          "model_module_version": "1.5.0",
          "model_name": "HTMLModel",
          "state": {
            "_dom_classes": [],
            "_model_module": "@jupyter-widgets/controls",
            "_model_module_version": "1.5.0",
            "_model_name": "HTMLModel",
            "_view_count": null,
            "_view_module": "@jupyter-widgets/controls",
            "_view_module_version": "1.5.0",
            "_view_name": "HTMLView",
            "description": "",
            "description_tooltip": null,
            "layout": "IPY_MODEL_8132d442bf9e4804a4fde1e011180689",
            "placeholder": "​",
            "style": "IPY_MODEL_28db6c7f1c0249568fa56f6ba21cb519",
            "value": "  0%"
          }
        },
        "2d98ceaa25cc49a69300096b572f1c2c": {
          "model_module": "@jupyter-widgets/controls",
          "model_module_version": "1.5.0",
          "model_name": "HTMLModel",
          "state": {
            "_dom_classes": [],
            "_model_module": "@jupyter-widgets/controls",
            "_model_module_version": "1.5.0",
            "_model_name": "HTMLModel",
            "_view_count": null,
            "_view_module": "@jupyter-widgets/controls",
            "_view_module_version": "1.5.0",
            "_view_name": "HTMLView",
            "description": "",
            "description_tooltip": null,
            "layout": "IPY_MODEL_ed50e893ad164446a3a34b158fd2e1fd",
            "placeholder": "​",
            "style": "IPY_MODEL_ef5b702a2d7243a486df5f0eba1b02d2",
            "value": "100%"
          }
        },
        "34313a7ac57d4b15b4d144646afb8e9c": {
          "model_module": "@jupyter-widgets/controls",
          "model_module_version": "1.5.0",
          "model_name": "HBoxModel",
          "state": {
            "_dom_classes": [],
            "_model_module": "@jupyter-widgets/controls",
            "_model_module_version": "1.5.0",
            "_model_name": "HBoxModel",
            "_view_count": null,
            "_view_module": "@jupyter-widgets/controls",
            "_view_module_version": "1.5.0",
            "_view_name": "HBoxView",
            "box_style": "",
            "children": [
              "IPY_MODEL_2d4b421e49d749e49693bc061f776b83",
              "IPY_MODEL_ffe102c010d643a4b6f4637539cc2e29",
              "IPY_MODEL_965494205fcd4302860d88ba3cad4e89"
            ],
            "layout": "IPY_MODEL_affc97f770874417803746faae8fb6fd"
          }
        },
        "35291d024ac2454ab71c2e87c3063244": {
          "model_module": "@jupyter-widgets/controls",
          "model_module_version": "1.5.0",
          "model_name": "HTMLModel",
          "state": {
            "_dom_classes": [],
            "_model_module": "@jupyter-widgets/controls",
            "_model_module_version": "1.5.0",
            "_model_name": "HTMLModel",
            "_view_count": null,
            "_view_module": "@jupyter-widgets/controls",
            "_view_module_version": "1.5.0",
            "_view_name": "HTMLView",
            "description": "",
            "description_tooltip": null,
            "layout": "IPY_MODEL_e7959ed171d34e539d40e3dabf8226bf",
            "placeholder": "​",
            "style": "IPY_MODEL_380d9dce24f348519909c3966e51f691",
            "value": "100%"
          }
        },
        "380d9dce24f348519909c3966e51f691": {
          "model_module": "@jupyter-widgets/controls",
          "model_module_version": "1.5.0",
          "model_name": "DescriptionStyleModel",
          "state": {
            "_model_module": "@jupyter-widgets/controls",
            "_model_module_version": "1.5.0",
            "_model_name": "DescriptionStyleModel",
            "_view_count": null,
            "_view_module": "@jupyter-widgets/base",
            "_view_module_version": "1.2.0",
            "_view_name": "StyleView",
            "description_width": ""
          }
        },
        "4cf89a6ac1cb4ee4bcdb9a901182ed0f": {
          "model_module": "@jupyter-widgets/base",
          "model_module_version": "1.2.0",
          "model_name": "LayoutModel",
          "state": {
            "_model_module": "@jupyter-widgets/base",
            "_model_module_version": "1.2.0",
            "_model_name": "LayoutModel",
            "_view_count": null,
            "_view_module": "@jupyter-widgets/base",
            "_view_module_version": "1.2.0",
            "_view_name": "LayoutView",
            "align_content": null,
            "align_items": null,
            "align_self": null,
            "border": null,
            "bottom": null,
            "display": null,
            "flex": null,
            "flex_flow": null,
            "grid_area": null,
            "grid_auto_columns": null,
            "grid_auto_flow": null,
            "grid_auto_rows": null,
            "grid_column": null,
            "grid_gap": null,
            "grid_row": null,
            "grid_template_areas": null,
            "grid_template_columns": null,
            "grid_template_rows": null,
            "height": null,
            "justify_content": null,
            "justify_items": null,
            "left": null,
            "margin": null,
            "max_height": null,
            "max_width": null,
            "min_height": null,
            "min_width": null,
            "object_fit": null,
            "object_position": null,
            "order": null,
            "overflow": null,
            "overflow_x": null,
            "overflow_y": null,
            "padding": null,
            "right": null,
            "top": null,
            "visibility": null,
            "width": null
          }
        },
        "54bc494b6e41477e9e6118573bf4f62b": {
          "model_module": "@jupyter-widgets/controls",
          "model_module_version": "1.5.0",
          "model_name": "DescriptionStyleModel",
          "state": {
            "_model_module": "@jupyter-widgets/controls",
            "_model_module_version": "1.5.0",
            "_model_name": "DescriptionStyleModel",
            "_view_count": null,
            "_view_module": "@jupyter-widgets/base",
            "_view_module_version": "1.2.0",
            "_view_name": "StyleView",
            "description_width": ""
          }
        },
        "588bc5e01afc479580ac0c1a63f2248f": {
          "model_module": "@jupyter-widgets/base",
          "model_module_version": "1.2.0",
          "model_name": "LayoutModel",
          "state": {
            "_model_module": "@jupyter-widgets/base",
            "_model_module_version": "1.2.0",
            "_model_name": "LayoutModel",
            "_view_count": null,
            "_view_module": "@jupyter-widgets/base",
            "_view_module_version": "1.2.0",
            "_view_name": "LayoutView",
            "align_content": null,
            "align_items": null,
            "align_self": null,
            "border": null,
            "bottom": null,
            "display": null,
            "flex": null,
            "flex_flow": null,
            "grid_area": null,
            "grid_auto_columns": null,
            "grid_auto_flow": null,
            "grid_auto_rows": null,
            "grid_column": null,
            "grid_gap": null,
            "grid_row": null,
            "grid_template_areas": null,
            "grid_template_columns": null,
            "grid_template_rows": null,
            "height": null,
            "justify_content": null,
            "justify_items": null,
            "left": null,
            "margin": null,
            "max_height": null,
            "max_width": null,
            "min_height": null,
            "min_width": null,
            "object_fit": null,
            "object_position": null,
            "order": null,
            "overflow": null,
            "overflow_x": null,
            "overflow_y": null,
            "padding": null,
            "right": null,
            "top": null,
            "visibility": null,
            "width": null
          }
        },
        "5e3558218cd74058895dc7994a0bd424": {
          "model_module": "@jupyter-widgets/base",
          "model_module_version": "1.2.0",
          "model_name": "LayoutModel",
          "state": {
            "_model_module": "@jupyter-widgets/base",
            "_model_module_version": "1.2.0",
            "_model_name": "LayoutModel",
            "_view_count": null,
            "_view_module": "@jupyter-widgets/base",
            "_view_module_version": "1.2.0",
            "_view_name": "LayoutView",
            "align_content": null,
            "align_items": null,
            "align_self": null,
            "border": null,
            "bottom": null,
            "display": null,
            "flex": null,
            "flex_flow": null,
            "grid_area": null,
            "grid_auto_columns": null,
            "grid_auto_flow": null,
            "grid_auto_rows": null,
            "grid_column": null,
            "grid_gap": null,
            "grid_row": null,
            "grid_template_areas": null,
            "grid_template_columns": null,
            "grid_template_rows": null,
            "height": null,
            "justify_content": null,
            "justify_items": null,
            "left": null,
            "margin": null,
            "max_height": null,
            "max_width": null,
            "min_height": null,
            "min_width": null,
            "object_fit": null,
            "object_position": null,
            "order": null,
            "overflow": null,
            "overflow_x": null,
            "overflow_y": null,
            "padding": null,
            "right": null,
            "top": null,
            "visibility": null,
            "width": null
          }
        },
        "7bc289cd0efb4987919b5e16245925b2": {
          "model_module": "@jupyter-widgets/controls",
          "model_module_version": "1.5.0",
          "model_name": "HTMLModel",
          "state": {
            "_dom_classes": [],
            "_model_module": "@jupyter-widgets/controls",
            "_model_module_version": "1.5.0",
            "_model_name": "HTMLModel",
            "_view_count": null,
            "_view_module": "@jupyter-widgets/controls",
            "_view_module_version": "1.5.0",
            "_view_name": "HTMLView",
            "description": "",
            "description_tooltip": null,
            "layout": "IPY_MODEL_dcd4b64e94d74985b7d638b9b607bc04",
            "placeholder": "​",
            "style": "IPY_MODEL_54bc494b6e41477e9e6118573bf4f62b",
            "value": " 40456/40456 [00:00&lt;00:00, 402086.44it/s]"
          }
        },
        "8132d442bf9e4804a4fde1e011180689": {
          "model_module": "@jupyter-widgets/base",
          "model_module_version": "1.2.0",
          "model_name": "LayoutModel",
          "state": {
            "_model_module": "@jupyter-widgets/base",
            "_model_module_version": "1.2.0",
            "_model_name": "LayoutModel",
            "_view_count": null,
            "_view_module": "@jupyter-widgets/base",
            "_view_module_version": "1.2.0",
            "_view_name": "LayoutView",
            "align_content": null,
            "align_items": null,
            "align_self": null,
            "border": null,
            "bottom": null,
            "display": null,
            "flex": null,
            "flex_flow": null,
            "grid_area": null,
            "grid_auto_columns": null,
            "grid_auto_flow": null,
            "grid_auto_rows": null,
            "grid_column": null,
            "grid_gap": null,
            "grid_row": null,
            "grid_template_areas": null,
            "grid_template_columns": null,
            "grid_template_rows": null,
            "height": null,
            "justify_content": null,
            "justify_items": null,
            "left": null,
            "margin": null,
            "max_height": null,
            "max_width": null,
            "min_height": null,
            "min_width": null,
            "object_fit": null,
            "object_position": null,
            "order": null,
            "overflow": null,
            "overflow_x": null,
            "overflow_y": null,
            "padding": null,
            "right": null,
            "top": null,
            "visibility": null,
            "width": null
          }
        },
        "8a1f75df9e454974929923ace4eff01c": {
          "model_module": "@jupyter-widgets/base",
          "model_module_version": "1.2.0",
          "model_name": "LayoutModel",
          "state": {
            "_model_module": "@jupyter-widgets/base",
            "_model_module_version": "1.2.0",
            "_model_name": "LayoutModel",
            "_view_count": null,
            "_view_module": "@jupyter-widgets/base",
            "_view_module_version": "1.2.0",
            "_view_name": "LayoutView",
            "align_content": null,
            "align_items": null,
            "align_self": null,
            "border": null,
            "bottom": null,
            "display": null,
            "flex": null,
            "flex_flow": null,
            "grid_area": null,
            "grid_auto_columns": null,
            "grid_auto_flow": null,
            "grid_auto_rows": null,
            "grid_column": null,
            "grid_gap": null,
            "grid_row": null,
            "grid_template_areas": null,
            "grid_template_columns": null,
            "grid_template_rows": null,
            "height": null,
            "justify_content": null,
            "justify_items": null,
            "left": null,
            "margin": null,
            "max_height": null,
            "max_width": null,
            "min_height": null,
            "min_width": null,
            "object_fit": null,
            "object_position": null,
            "order": null,
            "overflow": null,
            "overflow_x": null,
            "overflow_y": null,
            "padding": null,
            "right": null,
            "top": null,
            "visibility": null,
            "width": null
          }
        },
        "8c0d7d84684040c5b85f6992dd6126e9": {
          "model_module": "@jupyter-widgets/controls",
          "model_module_version": "1.5.0",
          "model_name": "ProgressStyleModel",
          "state": {
            "_model_module": "@jupyter-widgets/controls",
            "_model_module_version": "1.5.0",
            "_model_name": "ProgressStyleModel",
            "_view_count": null,
            "_view_module": "@jupyter-widgets/base",
            "_view_module_version": "1.2.0",
            "_view_name": "StyleView",
            "bar_color": null,
            "description_width": ""
          }
        },
        "8cbdd0bead194f809a42c8648cd61146": {
          "model_module": "@jupyter-widgets/base",
          "model_module_version": "1.2.0",
          "model_name": "LayoutModel",
          "state": {
            "_model_module": "@jupyter-widgets/base",
            "_model_module_version": "1.2.0",
            "_model_name": "LayoutModel",
            "_view_count": null,
            "_view_module": "@jupyter-widgets/base",
            "_view_module_version": "1.2.0",
            "_view_name": "LayoutView",
            "align_content": null,
            "align_items": null,
            "align_self": null,
            "border": null,
            "bottom": null,
            "display": null,
            "flex": null,
            "flex_flow": null,
            "grid_area": null,
            "grid_auto_columns": null,
            "grid_auto_flow": null,
            "grid_auto_rows": null,
            "grid_column": null,
            "grid_gap": null,
            "grid_row": null,
            "grid_template_areas": null,
            "grid_template_columns": null,
            "grid_template_rows": null,
            "height": null,
            "justify_content": null,
            "justify_items": null,
            "left": null,
            "margin": null,
            "max_height": null,
            "max_width": null,
            "min_height": null,
            "min_width": null,
            "object_fit": null,
            "object_position": null,
            "order": null,
            "overflow": null,
            "overflow_x": null,
            "overflow_y": null,
            "padding": null,
            "right": null,
            "top": null,
            "visibility": null,
            "width": null
          }
        },
        "965494205fcd4302860d88ba3cad4e89": {
          "model_module": "@jupyter-widgets/controls",
          "model_module_version": "1.5.0",
          "model_name": "HTMLModel",
          "state": {
            "_dom_classes": [],
            "_model_module": "@jupyter-widgets/controls",
            "_model_module_version": "1.5.0",
            "_model_name": "HTMLModel",
            "_view_count": null,
            "_view_module": "@jupyter-widgets/controls",
            "_view_module_version": "1.5.0",
            "_view_name": "HTMLView",
            "description": "",
            "description_tooltip": null,
            "layout": "IPY_MODEL_588bc5e01afc479580ac0c1a63f2248f",
            "placeholder": "​",
            "style": "IPY_MODEL_ccde3bb51e664c02b5b420b0f1b07307",
            "value": " 0/1 [00:00&lt;?, ?it/s]"
          }
        },
        "9dfe8fd42d2048b9875d633d65bcbbfd": {
          "model_module": "@jupyter-widgets/controls",
          "model_module_version": "1.5.0",
          "model_name": "ProgressStyleModel",
          "state": {
            "_model_module": "@jupyter-widgets/controls",
            "_model_module_version": "1.5.0",
            "_model_name": "ProgressStyleModel",
            "_view_count": null,
            "_view_module": "@jupyter-widgets/base",
            "_view_module_version": "1.2.0",
            "_view_name": "StyleView",
            "bar_color": null,
            "description_width": ""
          }
        },
        "9f24b1c1dba541f1a2eb7aebe61fbbfb": {
          "model_module": "@jupyter-widgets/controls",
          "model_module_version": "1.5.0",
          "model_name": "HBoxModel",
          "state": {
            "_dom_classes": [],
            "_model_module": "@jupyter-widgets/controls",
            "_model_module_version": "1.5.0",
            "_model_name": "HBoxModel",
            "_view_count": null,
            "_view_module": "@jupyter-widgets/controls",
            "_view_module_version": "1.5.0",
            "_view_name": "HBoxView",
            "box_style": "",
            "children": [
              "IPY_MODEL_35291d024ac2454ab71c2e87c3063244",
              "IPY_MODEL_18c67c3f2acb446db92f0e2a8d1e6715",
              "IPY_MODEL_7bc289cd0efb4987919b5e16245925b2"
            ],
            "layout": "IPY_MODEL_f89df10df7da46be8a546216542f21c3"
          }
        },
        "a19f7882201e40228c2d1de8654b37b9": {
          "model_module": "@jupyter-widgets/controls",
          "model_module_version": "1.5.0",
          "model_name": "DescriptionStyleModel",
          "state": {
            "_model_module": "@jupyter-widgets/controls",
            "_model_module_version": "1.5.0",
            "_model_name": "DescriptionStyleModel",
            "_view_count": null,
            "_view_module": "@jupyter-widgets/base",
            "_view_module_version": "1.2.0",
            "_view_name": "StyleView",
            "description_width": ""
          }
        },
        "affc97f770874417803746faae8fb6fd": {
          "model_module": "@jupyter-widgets/base",
          "model_module_version": "1.2.0",
          "model_name": "LayoutModel",
          "state": {
            "_model_module": "@jupyter-widgets/base",
            "_model_module_version": "1.2.0",
            "_model_name": "LayoutModel",
            "_view_count": null,
            "_view_module": "@jupyter-widgets/base",
            "_view_module_version": "1.2.0",
            "_view_name": "LayoutView",
            "align_content": null,
            "align_items": null,
            "align_self": null,
            "border": null,
            "bottom": null,
            "display": null,
            "flex": null,
            "flex_flow": null,
            "grid_area": null,
            "grid_auto_columns": null,
            "grid_auto_flow": null,
            "grid_auto_rows": null,
            "grid_column": null,
            "grid_gap": null,
            "grid_row": null,
            "grid_template_areas": null,
            "grid_template_columns": null,
            "grid_template_rows": null,
            "height": null,
            "justify_content": null,
            "justify_items": null,
            "left": null,
            "margin": null,
            "max_height": null,
            "max_width": null,
            "min_height": null,
            "min_width": null,
            "object_fit": null,
            "object_position": null,
            "order": null,
            "overflow": null,
            "overflow_x": null,
            "overflow_y": null,
            "padding": null,
            "right": null,
            "top": null,
            "visibility": null,
            "width": null
          }
        },
        "bbd1cb0b30e14c2997856402a0705c72": {
          "model_module": "@jupyter-widgets/controls",
          "model_module_version": "1.5.0",
          "model_name": "FloatProgressModel",
          "state": {
            "_dom_classes": [],
            "_model_module": "@jupyter-widgets/controls",
            "_model_module_version": "1.5.0",
            "_model_name": "FloatProgressModel",
            "_view_count": null,
            "_view_module": "@jupyter-widgets/controls",
            "_view_module_version": "1.5.0",
            "_view_name": "ProgressView",
            "bar_style": "success",
            "description": "",
            "description_tooltip": null,
            "layout": "IPY_MODEL_5e3558218cd74058895dc7994a0bd424",
            "max": 1,
            "min": 0,
            "orientation": "horizontal",
            "style": "IPY_MODEL_8c0d7d84684040c5b85f6992dd6126e9",
            "value": 1
          }
        },
        "cb2a3e4dc18b44dd99f5c6ee543a5bd7": {
          "model_module": "@jupyter-widgets/base",
          "model_module_version": "1.2.0",
          "model_name": "LayoutModel",
          "state": {
            "_model_module": "@jupyter-widgets/base",
            "_model_module_version": "1.2.0",
            "_model_name": "LayoutModel",
            "_view_count": null,
            "_view_module": "@jupyter-widgets/base",
            "_view_module_version": "1.2.0",
            "_view_name": "LayoutView",
            "align_content": null,
            "align_items": null,
            "align_self": null,
            "border": null,
            "bottom": null,
            "display": null,
            "flex": null,
            "flex_flow": null,
            "grid_area": null,
            "grid_auto_columns": null,
            "grid_auto_flow": null,
            "grid_auto_rows": null,
            "grid_column": null,
            "grid_gap": null,
            "grid_row": null,
            "grid_template_areas": null,
            "grid_template_columns": null,
            "grid_template_rows": null,
            "height": null,
            "justify_content": null,
            "justify_items": null,
            "left": null,
            "margin": null,
            "max_height": null,
            "max_width": null,
            "min_height": null,
            "min_width": null,
            "object_fit": null,
            "object_position": null,
            "order": null,
            "overflow": null,
            "overflow_x": null,
            "overflow_y": null,
            "padding": null,
            "right": null,
            "top": null,
            "visibility": null,
            "width": null
          }
        },
        "ccde3bb51e664c02b5b420b0f1b07307": {
          "model_module": "@jupyter-widgets/controls",
          "model_module_version": "1.5.0",
          "model_name": "DescriptionStyleModel",
          "state": {
            "_model_module": "@jupyter-widgets/controls",
            "_model_module_version": "1.5.0",
            "_model_name": "DescriptionStyleModel",
            "_view_count": null,
            "_view_module": "@jupyter-widgets/base",
            "_view_module_version": "1.2.0",
            "_view_name": "StyleView",
            "description_width": ""
          }
        },
        "dcd4b64e94d74985b7d638b9b607bc04": {
          "model_module": "@jupyter-widgets/base",
          "model_module_version": "1.2.0",
          "model_name": "LayoutModel",
          "state": {
            "_model_module": "@jupyter-widgets/base",
            "_model_module_version": "1.2.0",
            "_model_name": "LayoutModel",
            "_view_count": null,
            "_view_module": "@jupyter-widgets/base",
            "_view_module_version": "1.2.0",
            "_view_name": "LayoutView",
            "align_content": null,
            "align_items": null,
            "align_self": null,
            "border": null,
            "bottom": null,
            "display": null,
            "flex": null,
            "flex_flow": null,
            "grid_area": null,
            "grid_auto_columns": null,
            "grid_auto_flow": null,
            "grid_auto_rows": null,
            "grid_column": null,
            "grid_gap": null,
            "grid_row": null,
            "grid_template_areas": null,
            "grid_template_columns": null,
            "grid_template_rows": null,
            "height": null,
            "justify_content": null,
            "justify_items": null,
            "left": null,
            "margin": null,
            "max_height": null,
            "max_width": null,
            "min_height": null,
            "min_width": null,
            "object_fit": null,
            "object_position": null,
            "order": null,
            "overflow": null,
            "overflow_x": null,
            "overflow_y": null,
            "padding": null,
            "right": null,
            "top": null,
            "visibility": null,
            "width": null
          }
        },
        "defaefaa903f48bcaec6e4b4ad974be7": {
          "model_module": "@jupyter-widgets/controls",
          "model_module_version": "1.5.0",
          "model_name": "ProgressStyleModel",
          "state": {
            "_model_module": "@jupyter-widgets/controls",
            "_model_module_version": "1.5.0",
            "_model_name": "ProgressStyleModel",
            "_view_count": null,
            "_view_module": "@jupyter-widgets/base",
            "_view_module_version": "1.2.0",
            "_view_name": "StyleView",
            "bar_color": null,
            "description_width": ""
          }
        },
        "e7959ed171d34e539d40e3dabf8226bf": {
          "model_module": "@jupyter-widgets/base",
          "model_module_version": "1.2.0",
          "model_name": "LayoutModel",
          "state": {
            "_model_module": "@jupyter-widgets/base",
            "_model_module_version": "1.2.0",
            "_model_name": "LayoutModel",
            "_view_count": null,
            "_view_module": "@jupyter-widgets/base",
            "_view_module_version": "1.2.0",
            "_view_name": "LayoutView",
            "align_content": null,
            "align_items": null,
            "align_self": null,
            "border": null,
            "bottom": null,
            "display": null,
            "flex": null,
            "flex_flow": null,
            "grid_area": null,
            "grid_auto_columns": null,
            "grid_auto_flow": null,
            "grid_auto_rows": null,
            "grid_column": null,
            "grid_gap": null,
            "grid_row": null,
            "grid_template_areas": null,
            "grid_template_columns": null,
            "grid_template_rows": null,
            "height": null,
            "justify_content": null,
            "justify_items": null,
            "left": null,
            "margin": null,
            "max_height": null,
            "max_width": null,
            "min_height": null,
            "min_width": null,
            "object_fit": null,
            "object_position": null,
            "order": null,
            "overflow": null,
            "overflow_x": null,
            "overflow_y": null,
            "padding": null,
            "right": null,
            "top": null,
            "visibility": null,
            "width": null
          }
        },
        "ed50e893ad164446a3a34b158fd2e1fd": {
          "model_module": "@jupyter-widgets/base",
          "model_module_version": "1.2.0",
          "model_name": "LayoutModel",
          "state": {
            "_model_module": "@jupyter-widgets/base",
            "_model_module_version": "1.2.0",
            "_model_name": "LayoutModel",
            "_view_count": null,
            "_view_module": "@jupyter-widgets/base",
            "_view_module_version": "1.2.0",
            "_view_name": "LayoutView",
            "align_content": null,
            "align_items": null,
            "align_self": null,
            "border": null,
            "bottom": null,
            "display": null,
            "flex": null,
            "flex_flow": null,
            "grid_area": null,
            "grid_auto_columns": null,
            "grid_auto_flow": null,
            "grid_auto_rows": null,
            "grid_column": null,
            "grid_gap": null,
            "grid_row": null,
            "grid_template_areas": null,
            "grid_template_columns": null,
            "grid_template_rows": null,
            "height": null,
            "justify_content": null,
            "justify_items": null,
            "left": null,
            "margin": null,
            "max_height": null,
            "max_width": null,
            "min_height": null,
            "min_width": null,
            "object_fit": null,
            "object_position": null,
            "order": null,
            "overflow": null,
            "overflow_x": null,
            "overflow_y": null,
            "padding": null,
            "right": null,
            "top": null,
            "visibility": null,
            "width": null
          }
        },
        "ef5b702a2d7243a486df5f0eba1b02d2": {
          "model_module": "@jupyter-widgets/controls",
          "model_module_version": "1.5.0",
          "model_name": "DescriptionStyleModel",
          "state": {
            "_model_module": "@jupyter-widgets/controls",
            "_model_module_version": "1.5.0",
            "_model_name": "DescriptionStyleModel",
            "_view_count": null,
            "_view_module": "@jupyter-widgets/base",
            "_view_module_version": "1.2.0",
            "_view_name": "StyleView",
            "description_width": ""
          }
        },
        "f89df10df7da46be8a546216542f21c3": {
          "model_module": "@jupyter-widgets/base",
          "model_module_version": "1.2.0",
          "model_name": "LayoutModel",
          "state": {
            "_model_module": "@jupyter-widgets/base",
            "_model_module_version": "1.2.0",
            "_model_name": "LayoutModel",
            "_view_count": null,
            "_view_module": "@jupyter-widgets/base",
            "_view_module_version": "1.2.0",
            "_view_name": "LayoutView",
            "align_content": null,
            "align_items": null,
            "align_self": null,
            "border": null,
            "bottom": null,
            "display": null,
            "flex": null,
            "flex_flow": null,
            "grid_area": null,
            "grid_auto_columns": null,
            "grid_auto_flow": null,
            "grid_auto_rows": null,
            "grid_column": null,
            "grid_gap": null,
            "grid_row": null,
            "grid_template_areas": null,
            "grid_template_columns": null,
            "grid_template_rows": null,
            "height": null,
            "justify_content": null,
            "justify_items": null,
            "left": null,
            "margin": null,
            "max_height": null,
            "max_width": null,
            "min_height": null,
            "min_width": null,
            "object_fit": null,
            "object_position": null,
            "order": null,
            "overflow": null,
            "overflow_x": null,
            "overflow_y": null,
            "padding": null,
            "right": null,
            "top": null,
            "visibility": null,
            "width": null
          }
        },
        "ffe102c010d643a4b6f4637539cc2e29": {
          "model_module": "@jupyter-widgets/controls",
          "model_module_version": "1.5.0",
          "model_name": "FloatProgressModel",
          "state": {
            "_dom_classes": [],
            "_model_module": "@jupyter-widgets/controls",
            "_model_module_version": "1.5.0",
            "_model_name": "FloatProgressModel",
            "_view_count": null,
            "_view_module": "@jupyter-widgets/controls",
            "_view_module_version": "1.5.0",
            "_view_name": "ProgressView",
            "bar_style": "danger",
            "description": "",
            "description_tooltip": null,
            "layout": "IPY_MODEL_8cbdd0bead194f809a42c8648cd61146",
            "max": 1,
            "min": 0,
            "orientation": "horizontal",
            "style": "IPY_MODEL_defaefaa903f48bcaec6e4b4ad974be7",
            "value": 0
          }
        }
      }
    }
  },
  "nbformat": 4,
  "nbformat_minor": 0
}
